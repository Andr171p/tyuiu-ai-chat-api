{
 "cells": [
  {
   "cell_type": "code",
   "execution_count": 1,
   "metadata": {},
   "outputs": [
    {
     "name": "stdout",
     "output_type": "stream",
     "text": [
      "Defaulting to user installation because normal site-packages is not writeable\n",
      "Requirement already satisfied: pip in c:\\users\\andre\\appdata\\roaming\\python\\python311\\site-packages (25.0.1)\n",
      "Note: you may need to restart the kernel to use updated packages.\n",
      "Note: you may need to restart the kernel to use updated packages.\n"
     ]
    }
   ],
   "source": [
    "!python.exe -m pip install --upgrade pip\n",
    "%pip install -q langchain-elasticsearch\n",
    "%pip install -q sentence-transformers"
   ]
  },
  {
   "cell_type": "code",
   "execution_count": 1,
   "metadata": {},
   "outputs": [
    {
     "name": "stderr",
     "output_type": "stream",
     "text": [
      "c:\\Program Files\\Python311\\Lib\\importlib\\__init__.py:126: LangChainDeprecationWarning: As of langchain-core 0.3.0, LangChain uses pydantic v2 internally. The langchain_core.pydantic_v1 module was a compatibility shim for pydantic v1, and should no longer be used. Please update the code to import from Pydantic directly.\n",
      "\n",
      "For example, replace imports like: `from langchain_core.pydantic_v1 import BaseModel`\n",
      "with: `from pydantic import BaseModel`\n",
      "or the v1 compatibility namespace if you are working in a code base that has not been fully upgraded to pydantic 2 yet. \tfrom pydantic.v1 import BaseModel\n",
      "\n",
      "  return _bootstrap._gcd_import(name[level:], package, level)\n"
     ]
    }
   ],
   "source": [
    "from uuid import uuid4\n",
    "from langchain_core.documents import Document\n",
    "from elasticsearch import Elasticsearch\n",
    "from langchain_elasticsearch import ElasticsearchStore\n",
    "from langchain_community.retrievers import ElasticSearchBM25Retriever\n",
    "from langchain.embeddings import HuggingFaceEmbeddings"
   ]
  },
  {
   "cell_type": "code",
   "execution_count": 4,
   "metadata": {},
   "outputs": [
    {
     "data": {
      "text/plain": [
       "28721"
      ]
     },
     "execution_count": 4,
     "metadata": {},
     "output_type": "execute_result"
    }
   ],
   "source": [
    "with open(\n",
    "    file=\"ТИУ_Entities_Relations_Passed_Scores.txt\",\n",
    "    mode='r',\n",
    "    encoding='utf-8'\n",
    ") as file:\n",
    "    text = file.read()\n",
    "    \n",
    "len(text)"
   ]
  },
  {
   "cell_type": "code",
   "execution_count": 5,
   "metadata": {},
   "outputs": [],
   "source": [
    "import re\n",
    "\n",
    "\n",
    "entity_pattern = re.compile(r'\\(entity\\|([^|]+)\\|([^|]+)\\|([^|]+)\\)')\n",
    "\n",
    "relationship_pattern = re.compile(r'\\(relationship\\|([^|]+)\\|([^|]+)\\|([^|]+)\\|([^|]+)\\)')"
   ]
  },
  {
   "cell_type": "code",
   "execution_count": 6,
   "metadata": {},
   "outputs": [
    {
     "data": {
      "text/plain": [
       "192"
      ]
     },
     "execution_count": 6,
     "metadata": {},
     "output_type": "execute_result"
    }
   ],
   "source": [
    "entities = []\n",
    "for match in entity_pattern.finditer(text):\n",
    "    entity_name, entity_type, entity_description = match.groups()\n",
    "    entities.append({\n",
    "        \"name\": entity_name.strip(),\n",
    "        \"type\": entity_type.strip(),\n",
    "        \"description\": entity_description.strip()\n",
    "    })\n",
    "    \n",
    "len(entities)    "
   ]
  },
  {
   "cell_type": "code",
   "execution_count": 7,
   "metadata": {},
   "outputs": [
    {
     "data": {
      "text/plain": [
       "{'name': 'ФИЛИАЛ',\n",
       " 'type': 'УЧРЕЖДЕНИЕ',\n",
       " 'description': 'Отделение основного учреждения'}"
      ]
     },
     "execution_count": 7,
     "metadata": {},
     "output_type": "execute_result"
    }
   ],
   "source": [
    "entities[100]"
   ]
  },
  {
   "cell_type": "code",
   "execution_count": 8,
   "metadata": {},
   "outputs": [
    {
     "name": "stdout",
     "output_type": "stream",
     "text": [
      "Note: you may need to restart the kernel to use updated packages.\n"
     ]
    }
   ],
   "source": [
    "%pip install -q tf-keras"
   ]
  },
  {
   "cell_type": "code",
   "execution_count": 8,
   "metadata": {},
   "outputs": [
    {
     "name": "stderr",
     "output_type": "stream",
     "text": [
      "C:\\Users\\andre\\AppData\\Local\\Temp\\ipykernel_27000\\527724830.py:1: LangChainDeprecationWarning: The class `HuggingFaceEmbeddings` was deprecated in LangChain 0.2.2 and will be removed in 1.0. An updated version of the class exists in the :class:`~langchain-huggingface package and should be used instead. To use it run `pip install -U :class:`~langchain-huggingface` and import as `from :class:`~langchain_huggingface import HuggingFaceEmbeddings``.\n",
      "  embeddings = HuggingFaceEmbeddings(\n"
     ]
    },
    {
     "name": "stdout",
     "output_type": "stream",
     "text": [
      "WARNING:tensorflow:From C:\\Users\\andre\\AppData\\Roaming\\Python\\Python311\\site-packages\\tf_keras\\src\\losses.py:2976: The name tf.losses.sparse_softmax_cross_entropy is deprecated. Please use tf.compat.v1.losses.sparse_softmax_cross_entropy instead.\n",
      "\n"
     ]
    }
   ],
   "source": [
    "embeddings = HuggingFaceEmbeddings(\n",
    "    model_name=\"ai-forever/sbert_large_nlu_ru\",\n",
    "    model_kwargs={\"device\": \"cpu\"},\n",
    "    encode_kwargs={'normalize_embeddings': False},\n",
    ")"
   ]
  },
  {
   "cell_type": "code",
   "execution_count": 9,
   "metadata": {},
   "outputs": [],
   "source": [
    "documents = []\n",
    "for entity in entities:\n",
    "    document = Document(\n",
    "        page_content=entity[\"name\"],\n",
    "        metadata={\n",
    "            \"type\": entity[\"type\"], \n",
    "            \"description\": entity[\"description\"]\n",
    "        }\n",
    "    )\n",
    "    documents.append(document)"
   ]
  },
  {
   "cell_type": "code",
   "execution_count": 10,
   "metadata": {},
   "outputs": [
    {
     "name": "stdout",
     "output_type": "stream",
     "text": [
      "Всего создано 2 батчей.\n"
     ]
    }
   ],
   "source": [
    "batch_size = 100\n",
    "batches = []\n",
    "\n",
    "for i in range(0, len(documents), batch_size):\n",
    "    batches.append(documents[i:i+batch_size])\n",
    "\n",
    "print(f\"Всего создано {len(batches)} батчей.\")"
   ]
  },
  {
   "cell_type": "code",
   "execution_count": 11,
   "metadata": {},
   "outputs": [],
   "source": [
    "es = Elasticsearch(\n",
    "    hosts=\"https://elasticsearch-pv2s-production.up.railway.app/\",\n",
    "    basic_auth=(\"elastic\", \"2qq0lvgc89lwh6z5jp2q9280dcneaf95\")\n",
    ")"
   ]
  },
  {
   "cell_type": "code",
   "execution_count": null,
   "metadata": {},
   "outputs": [
    {
     "data": {
      "text/plain": [
       "ObjectApiResponse({'acknowledged': True})"
      ]
     },
     "execution_count": 40,
     "metadata": {},
     "output_type": "execute_result"
    }
   ],
   "source": [
    "# es.indices.delete(index=\"nodes\")"
   ]
  },
  {
   "cell_type": "code",
   "execution_count": 12,
   "metadata": {},
   "outputs": [],
   "source": [
    "elastic_store = ElasticsearchStore(\n",
    "    es_url=\"https://elasticsearch-pv2s-production.up.railway.app/\",\n",
    "    index_name=\"nodes_embeddings\",\n",
    "    embedding=embeddings,\n",
    "    es_user=\"elastic\",\n",
    "    es_password=\"2qq0lvgc89lwh6z5jp2q9280dcneaf95\",\n",
    ")"
   ]
  },
  {
   "cell_type": "code",
   "execution_count": 13,
   "metadata": {},
   "outputs": [],
   "source": [
    "for batch in batches:\n",
    "    elastic_store.add_documents(batch)"
   ]
  },
  {
   "cell_type": "code",
   "execution_count": 15,
   "metadata": {},
   "outputs": [
    {
     "data": {
      "text/plain": [
       "[Document(metadata={'type': 'ФИЛИАЛ', 'description': 'структурное подразделение института'}, page_content='ФИЛИАЛ ТИУ'),\n",
       " Document(metadata={'type': 'ПАРАМЕТР', 'description': 'Параметр основных бюджетных мест'}, page_content='ОсновныеБюджетныеМеста'),\n",
       " Document(metadata={'type': 'КОНТАКТНАЯ ИНФОРМАЦИЯ', 'description': 'адреса электронной почты: general@tyuiu.ru'}, page_content='АДРЕСА_ЭЛЕКТРОННОЙ_ПОЧТЫ'),\n",
       " Document(metadata={'type': 'КВОТА', 'description': 'Оставшиеся бюджетные места после выделения других квот'}, page_content='ОСНОВНЫЕ БЮДЖЕТНЫЕ МЕСТА')]"
      ]
     },
     "execution_count": 15,
     "metadata": {},
     "output_type": "execute_result"
    }
   ],
   "source": [
    "docs = elastic_store.similarity_search(\"Раскажи о всех филиалах в ТИУ\")\n",
    "docs"
   ]
  },
  {
   "cell_type": "code",
   "execution_count": null,
   "metadata": {},
   "outputs": [
    {
     "data": {
      "text/plain": [
       "ObjectApiResponse({'acknowledged': True})"
      ]
     },
     "execution_count": 51,
     "metadata": {},
     "output_type": "execute_result"
    }
   ],
   "source": [
    "# es.indices.delete(index=\"nodes_documents\")"
   ]
  },
  {
   "cell_type": "code",
   "execution_count": 16,
   "metadata": {},
   "outputs": [],
   "source": [
    "bm25_retriever = ElasticSearchBM25Retriever(\n",
    "    client=es, \n",
    "    index_name=\"nodes_documents\"\n",
    ")"
   ]
  },
  {
   "cell_type": "code",
   "execution_count": 17,
   "metadata": {},
   "outputs": [],
   "source": [
    "for batch in batches:\n",
    "    bm25_retriever.add_texts([document.page_content for document in batch])"
   ]
  },
  {
   "cell_type": "code",
   "execution_count": 19,
   "metadata": {},
   "outputs": [
    {
     "data": {
      "text/plain": [
       "[Document(metadata={}, page_content='НЕФТЕГАЗОВОЕ ДЕЛО'),\n",
       " Document(metadata={}, page_content='НЕФТЕГАЗОВОЕ ДЕЛО'),\n",
       " Document(metadata={}, page_content='ПРОХОДНОЙ БАЛЛ'),\n",
       " Document(metadata={}, page_content='ПРОХОДНОЙ БАЛЛ'),\n",
       " Document(metadata={}, page_content='ПРОХОДНОЙ БАЛЛ'),\n",
       " Document(metadata={}, page_content='ПРОХОДНОЙ БАЛЛ'),\n",
       " Document(metadata={}, page_content='ПРОХОДНОЙ БАЛЛ'),\n",
       " Document(metadata={}, page_content='ПРОХОДНОЙ БАЛЛ'),\n",
       " Document(metadata={}, page_content='ПРОХОДНОЙ БАЛЛ'),\n",
       " Document(metadata={}, page_content='ПРОХОДНОЙ БАЛЛ')]"
      ]
     },
     "execution_count": 19,
     "metadata": {},
     "output_type": "execute_result"
    }
   ],
   "source": [
    "docs = bm25_retriever.invoke(\"Проходной балл на нефтегазовое дело\")\n",
    "docs"
   ]
  }
 ],
 "metadata": {
  "kernelspec": {
   "display_name": "Python 3",
   "language": "python",
   "name": "python3"
  },
  "language_info": {
   "codemirror_mode": {
    "name": "ipython",
    "version": 3
   },
   "file_extension": ".py",
   "mimetype": "text/x-python",
   "name": "python",
   "nbconvert_exporter": "python",
   "pygments_lexer": "ipython3",
   "version": "3.11.3"
  }
 },
 "nbformat": 4,
 "nbformat_minor": 2
}

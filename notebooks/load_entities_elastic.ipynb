{
 "cells": [
  {
   "cell_type": "code",
   "execution_count": 1,
   "metadata": {},
   "outputs": [
    {
     "name": "stdout",
     "output_type": "stream",
     "text": [
      "Defaulting to user installation because normal site-packages is not writeable\n",
      "Requirement already satisfied: pip in c:\\users\\andre\\appdata\\roaming\\python\\python311\\site-packages (25.0.1)\n",
      "Note: you may need to restart the kernel to use updated packages.\n",
      "Note: you may need to restart the kernel to use updated packages.\n"
     ]
    }
   ],
   "source": [
    "!python.exe -m pip install --upgrade pip\n",
    "%pip install -q langchain-elasticsearch\n",
    "%pip install -q sentence-transformers"
   ]
  },
  {
   "cell_type": "code",
   "execution_count": 31,
   "metadata": {},
   "outputs": [],
   "source": [
    "from uuid import uuid4\n",
    "from langchain_core.documents import Document\n",
    "from elasticsearch import Elasticsearch\n",
    "from langchain_elasticsearch import ElasticsearchStore\n",
    "from langchain_community.retrievers import ElasticSearchBM25Retriever\n",
    "from langchain.embeddings import HuggingFaceEmbeddings"
   ]
  },
  {
   "cell_type": "code",
   "execution_count": 32,
   "metadata": {},
   "outputs": [
    {
     "data": {
      "text/plain": [
       "271386"
      ]
     },
     "execution_count": 32,
     "metadata": {},
     "output_type": "execute_result"
    }
   ],
   "source": [
    "with open(\n",
    "    file=\"ТИУ Сущности База знаний.txt\",\n",
    "    mode='r',\n",
    "    encoding='utf-8'\n",
    ") as file:\n",
    "    text = file.read()\n",
    "    \n",
    "len(text)"
   ]
  },
  {
   "cell_type": "code",
   "execution_count": 33,
   "metadata": {},
   "outputs": [],
   "source": [
    "import re\n",
    "\n",
    "\n",
    "entity_pattern = re.compile(r'\\(entity\\|([^|]+)\\|([^|]+)\\|([^|]+)\\)')\n",
    "\n",
    "relationship_pattern = re.compile(r'\\(relationship\\|([^|]+)\\|([^|]+)\\|([^|]+)\\|([^|]+)\\)')"
   ]
  },
  {
   "cell_type": "code",
   "execution_count": 34,
   "metadata": {},
   "outputs": [
    {
     "data": {
      "text/plain": [
       "1592"
      ]
     },
     "execution_count": 34,
     "metadata": {},
     "output_type": "execute_result"
    }
   ],
   "source": [
    "entities = []\n",
    "for match in entity_pattern.finditer(text):\n",
    "    entity_name, entity_type, entity_description = match.groups()\n",
    "    entities.append({\n",
    "        \"name\": entity_name.strip(),\n",
    "        \"type\": entity_type.strip(),\n",
    "        \"description\": entity_description.strip()\n",
    "    })\n",
    "    \n",
    "len(entities)    "
   ]
  },
  {
   "cell_type": "code",
   "execution_count": 35,
   "metadata": {},
   "outputs": [
    {
     "data": {
      "text/plain": [
       "{'name': 'БЛИЗКИЙ_РОДСТВЕННИК',\n",
       " 'type': 'КАТЕГОРИЯ_ЛИЦ',\n",
       " 'description': 'родственник первой степени родства'}"
      ]
     },
     "execution_count": 35,
     "metadata": {},
     "output_type": "execute_result"
    }
   ],
   "source": [
    "entities[100]"
   ]
  },
  {
   "cell_type": "code",
   "execution_count": 8,
   "metadata": {},
   "outputs": [
    {
     "name": "stdout",
     "output_type": "stream",
     "text": [
      "Note: you may need to restart the kernel to use updated packages.\n"
     ]
    }
   ],
   "source": [
    "%pip install -q tf-keras"
   ]
  },
  {
   "cell_type": "code",
   "execution_count": 36,
   "metadata": {},
   "outputs": [],
   "source": [
    "embeddings = HuggingFaceEmbeddings(\n",
    "    model_name=\"ai-forever/sbert_large_nlu_ru\",\n",
    "    model_kwargs={\"device\": \"cpu\"},\n",
    "    encode_kwargs={'normalize_embeddings': False},\n",
    ")"
   ]
  },
  {
   "cell_type": "code",
   "execution_count": 37,
   "metadata": {},
   "outputs": [],
   "source": [
    "documents = []\n",
    "for entity in entities:\n",
    "    document = Document(\n",
    "        page_content=entity[\"name\"],\n",
    "        metadata={\n",
    "            \"type\": entity[\"type\"], \n",
    "            \"description\": entity[\"description\"]\n",
    "        }\n",
    "    )\n",
    "    documents.append(document)"
   ]
  },
  {
   "cell_type": "code",
   "execution_count": 38,
   "metadata": {},
   "outputs": [
    {
     "name": "stdout",
     "output_type": "stream",
     "text": [
      "Всего создано 16 батчей.\n"
     ]
    }
   ],
   "source": [
    "batch_size = 100\n",
    "batches = []\n",
    "\n",
    "for i in range(0, len(documents), batch_size):\n",
    "    batches.append(documents[i:i+batch_size])\n",
    "\n",
    "print(f\"Всего создано {len(batches)} батчей.\")"
   ]
  },
  {
   "cell_type": "code",
   "execution_count": 39,
   "metadata": {},
   "outputs": [],
   "source": [
    "es = Elasticsearch(\n",
    "    hosts=\"https://elasticsearch-pv2s-production.up.railway.app/\",\n",
    "    basic_auth=(\"elastic\", \"2qq0lvgc89lwh6z5jp2q9280dcneaf95\")\n",
    ")"
   ]
  },
  {
   "cell_type": "code",
   "execution_count": 40,
   "metadata": {},
   "outputs": [
    {
     "data": {
      "text/plain": [
       "ObjectApiResponse({'acknowledged': True})"
      ]
     },
     "execution_count": 40,
     "metadata": {},
     "output_type": "execute_result"
    }
   ],
   "source": [
    "es.indices.delete(index=\"nodes\")"
   ]
  },
  {
   "cell_type": "code",
   "execution_count": 41,
   "metadata": {},
   "outputs": [],
   "source": [
    "elastic_store = ElasticsearchStore(\n",
    "    es_url=\"https://elasticsearch-pv2s-production.up.railway.app/\",\n",
    "    index_name=\"nodes_embeddings\",\n",
    "    embedding=embeddings,\n",
    "    es_user=\"elastic\",\n",
    "    es_password=\"2qq0lvgc89lwh6z5jp2q9280dcneaf95\",\n",
    ")"
   ]
  },
  {
   "cell_type": "code",
   "execution_count": 42,
   "metadata": {},
   "outputs": [],
   "source": [
    "for batch in batches:\n",
    "    elastic_store.add_documents(batch)"
   ]
  },
  {
   "cell_type": "code",
   "execution_count": 47,
   "metadata": {},
   "outputs": [
    {
     "data": {
      "text/plain": [
       "[Document(metadata={'type': 'РЕЗУЛЬТАТ', 'description': 'итоговая оценка поступающего'}, page_content='ИТОГОВЫЙ_КОНКУРСНЫЙ_БАЛЛ'),\n",
       " Document(metadata={'type': 'ПАРАМЕТР', 'description': 'Типы источников финансирования мест'}, page_content='ИсточникиФинансированияМест'),\n",
       " Document(metadata={'type': 'ПОДГОТОВКА', 'description': 'подготовка по темам ЕГЭ, включая сложные задачи'}, page_content='ПОДГОТОВКА_ПО_ЕГЭ'),\n",
       " Document(metadata={'type': 'ПОКАЗАТЕЛЬ', 'description': 'показатель, характеризующий количество баллов, необходимое для поступления'}, page_content='СРЕДНИЕ_ПРОХОДНЫЕ_БАЛЛЫ')]"
      ]
     },
     "execution_count": 47,
     "metadata": {},
     "output_type": "execute_result"
    }
   ],
   "source": [
    "docs = elastic_store.similarity_search(\"Какой проходной балл на Нефтегазовое дело\")\n",
    "docs"
   ]
  },
  {
   "cell_type": "code",
   "execution_count": 51,
   "metadata": {},
   "outputs": [
    {
     "data": {
      "text/plain": [
       "ObjectApiResponse({'acknowledged': True})"
      ]
     },
     "execution_count": 51,
     "metadata": {},
     "output_type": "execute_result"
    }
   ],
   "source": [
    "es.indices.delete(index=\"nodes_documents\")"
   ]
  },
  {
   "cell_type": "code",
   "execution_count": 52,
   "metadata": {},
   "outputs": [],
   "source": [
    "bm25_retriever = ElasticSearchBM25Retriever(\n",
    "    client=es, \n",
    "    index_name=\"nodes_documents\"\n",
    ")"
   ]
  },
  {
   "cell_type": "code",
   "execution_count": 55,
   "metadata": {},
   "outputs": [],
   "source": [
    "for batch in batches:\n",
    "    bm25_retriever.add_texts([document.page_content for document in batch])"
   ]
  },
  {
   "cell_type": "code",
   "execution_count": 57,
   "metadata": {},
   "outputs": [
    {
     "data": {
      "text/plain": [
       "[Document(metadata={}, page_content='ПОДПУНКТ_«В»'),\n",
       " Document(metadata={}, page_content='ПРИЁМ В УНИВЕРСИТЕТ'),\n",
       " Document(metadata={}, page_content='ПОДГОТОВКА К ПОСТУПЛЕНИЮ В ВУЗ'),\n",
       " Document(metadata={}, page_content='ПЕРЕЧЕНЬ НЕОБХОДИМЫХ ДОКУМЕНТОВ ДЛЯ ПОСТУПЛЕНИЯ В ТИУ'),\n",
       " Document(metadata={}, page_content='ФЕДЕРАЛЬНЫЕ ЗАКОНЫ \"О ГОСУДАРСТВЕННОЙ ПОЛИТИКЕ РОССИЙСКОЙ ФЕДЕРАЦИИ В ОТНОШЕНИИ СООТЕЧЕСТВЕННИКОВ ЗА РУБЕЖОМ\" И \"ОБ ОБРАЗОВАНИИ В РОССИЙСКОЙ ФЕДЕРАЦИИ\"'),\n",
       " Document(metadata={}, page_content='НОМИНАЦИЯ ЛУЧШАЯ ПОСТАНОВКА ФИЗКУЛЬТУРНО – СПОРТИВНОЙ РАБОТЫ В ОБРАЗОВАТЕЛЬНЫХ УЧРЕЖДЕНИЯХ ВЫСШЕГО ОБРАЗОВАНИЯ ГОРОДА ТЮМЕНИ')]"
      ]
     },
     "execution_count": 57,
     "metadata": {},
     "output_type": "execute_result"
    }
   ],
   "source": [
    "docs = bm25_retriever.invoke(\"Как поступить в рамках контрольных цифр\")\n",
    "docs"
   ]
  }
 ],
 "metadata": {
  "kernelspec": {
   "display_name": "Python 3",
   "language": "python",
   "name": "python3"
  },
  "language_info": {
   "codemirror_mode": {
    "name": "ipython",
    "version": 3
   },
   "file_extension": ".py",
   "mimetype": "text/x-python",
   "name": "python",
   "nbconvert_exporter": "python",
   "pygments_lexer": "ipython3",
   "version": "3.11.3"
  }
 },
 "nbformat": 4,
 "nbformat_minor": 2
}
